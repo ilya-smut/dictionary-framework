{
 "cells": [
  {
   "cell_type": "markdown",
   "id": "df0560a8-a525-471c-aad2-474ff102ece7",
   "metadata": {},
   "source": [
    "Module works as follows (30 May 2024):"
   ]
  },
  {
   "cell_type": "code",
   "execution_count": 36,
   "id": "5d8b9ecf-3651-4eed-a86f-37e0fb4415d1",
   "metadata": {},
   "outputs": [],
   "source": [
    "from python_glossary.glossary import Glossary"
   ]
  },
  {
   "cell_type": "code",
   "execution_count": 37,
   "id": "f9bfe511-db2d-4bbb-8ea6-e65912173b0f",
   "metadata": {},
   "outputs": [],
   "source": [
    "rules = Glossary.Rules()"
   ]
  },
  {
   "cell_type": "code",
   "execution_count": 38,
   "id": "91954e4c-57be-442e-b7e0-698662868879",
   "metadata": {},
   "outputs": [],
   "source": [
    "rules.set_limit_of_descriptions(3)"
   ]
  },
  {
   "cell_type": "code",
   "execution_count": 39,
   "id": "63d50078-a809-4d27-82d6-d5ff04d97108",
   "metadata": {},
   "outputs": [],
   "source": [
    "word = Glossary.Word('Example', rules)"
   ]
  },
  {
   "cell_type": "code",
   "execution_count": 40,
   "id": "bf24f568-c1ce-4bf1-8f5c-6e70c9b9a600",
   "metadata": {},
   "outputs": [
    {
     "data": {
      "text/plain": [
       "True"
      ]
     },
     "execution_count": 40,
     "metadata": {},
     "output_type": "execute_result"
    }
   ],
   "source": [
    "word.exists()"
   ]
  },
  {
   "cell_type": "code",
   "execution_count": 41,
   "id": "01800996-00ed-4d54-8a24-f08b73fec85d",
   "metadata": {},
   "outputs": [
    {
     "data": {
      "text/plain": [
       "'/əɡˈzæmpl̩/'"
      ]
     },
     "execution_count": 41,
     "metadata": {},
     "output_type": "execute_result"
    }
   ],
   "source": [
    "word.get_transcription()"
   ]
  },
  {
   "cell_type": "code",
   "execution_count": 42,
   "id": "a2f234c9-9cc5-4cef-a95c-efad1c11b930",
   "metadata": {},
   "outputs": [
    {
     "data": {
      "text/plain": [
       "'https://api.dictionaryapi.dev/media/pronunciations/en/example-us.mp3'"
      ]
     },
     "execution_count": 42,
     "metadata": {},
     "output_type": "execute_result"
    }
   ],
   "source": [
    "word.get_audio()"
   ]
  },
  {
   "cell_type": "code",
   "execution_count": 43,
   "id": "dd7b5de3-9921-4949-bfed-214ae6f72a70",
   "metadata": {},
   "outputs": [
    {
     "data": {
      "text/plain": [
       "['Something that is representative of all such things in a group.',\n",
       " 'Something that serves to illustrate or explain a rule.',\n",
       " 'Something that serves as a pattern of behaviour to be imitated (a good example) or not to be imitated (a bad example).',\n",
       " 'To be illustrated or exemplified (by).']"
      ]
     },
     "execution_count": 43,
     "metadata": {},
     "output_type": "execute_result"
    }
   ],
   "source": [
    "word.get_all_definitions()"
   ]
  },
  {
   "cell_type": "code",
   "execution_count": 44,
   "id": "44bcf9b0-d850-4f83-b5be-fd0c7d243760",
   "metadata": {},
   "outputs": [
    {
     "data": {
      "text/plain": [
       "['Something that is representative of all such things in a group.',\n",
       " 'Something that serves to illustrate or explain a rule.',\n",
       " 'Something that serves as a pattern of behaviour to be imitated (a good example) or not to be imitated (a bad example).']"
      ]
     },
     "execution_count": 44,
     "metadata": {},
     "output_type": "execute_result"
    }
   ],
   "source": [
    "word.get_definitions_of_part_of_speech('noun')"
   ]
  },
  {
   "cell_type": "code",
   "execution_count": 45,
   "id": "cf87ec7e-579e-48f0-b84c-07b42225a452",
   "metadata": {},
   "outputs": [
    {
     "data": {
      "text/plain": [
       "['To be illustrated or exemplified (by).']"
      ]
     },
     "execution_count": 45,
     "metadata": {},
     "output_type": "execute_result"
    }
   ],
   "source": [
    "word.get_definitions_of_part_of_speech('verb')"
   ]
  },
  {
   "cell_type": "code",
   "execution_count": 46,
   "id": "6dedce1b-cf53-46b8-b757-3643bf89c9d7",
   "metadata": {},
   "outputs": [
    {
     "data": {
      "text/plain": [
       "dict_keys(['noun', 'verb'])"
      ]
     },
     "execution_count": 46,
     "metadata": {},
     "output_type": "execute_result"
    }
   ],
   "source": [
    "word.get_parts_of_speech()"
   ]
  },
  {
   "cell_type": "code",
   "execution_count": null,
   "id": "88c6789d-fe92-4642-90b0-8973075f5851",
   "metadata": {},
   "outputs": [],
   "source": []
  }
 ],
 "metadata": {
  "kernelspec": {
   "display_name": "Python 3 (ipykernel)",
   "language": "python",
   "name": "python3"
  },
  "language_info": {
   "codemirror_mode": {
    "name": "ipython",
    "version": 3
   },
   "file_extension": ".py",
   "mimetype": "text/x-python",
   "name": "python",
   "nbconvert_exporter": "python",
   "pygments_lexer": "ipython3",
   "version": "3.12.3"
  }
 },
 "nbformat": 4,
 "nbformat_minor": 5
}
